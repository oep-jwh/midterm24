{
  "nbformat": 4,
  "nbformat_minor": 0,
  "metadata": {
    "colab": {
      "provenance": [],
      "authorship_tag": "ABX9TyNPXxUA+fBXAbl/KffPFuNo",
      "include_colab_link": true
    },
    "kernelspec": {
      "name": "python3",
      "display_name": "Python 3"
    },
    "language_info": {
      "name": "python"
    }
  },
  "cells": [
    {
      "cell_type": "markdown",
      "metadata": {
        "id": "view-in-github",
        "colab_type": "text"
      },
      "source": [
        "<a href=\"https://colab.research.google.com/github/oep-jwh/midterm24/blob/main/202258118.ipynb\" target=\"_parent\"><img src=\"https://colab.research.google.com/assets/colab-badge.svg\" alt=\"Open In Colab\"/></a>"
      ]
    },
    {
      "cell_type": "markdown",
      "source": [],
      "metadata": {
        "id": "MYKWhWk8wsMD"
      }
    },
    {
      "cell_type": "markdown",
      "source": [
        "🌀Midterm 2024: Jiwoo Han (202258118)\n",
        "\n",
        "\n"
      ],
      "metadata": {
        "id": "dMDE_pVTwucT"
      }
    },
    {
      "cell_type": "code",
      "source": [
        "# Enter the provided text below.\n",
        "# 'Mary, 1998, Ohio; and John, 1999, Boston.'\n",
        "\n",
        "# Assigning variables using the input function.\n",
        "x = input(\"name: \")\n",
        "y = input(\"born in: \")\n",
        "z = input(\"hometown: \")\n",
        "\n",
        "# Displaying the gathered information.\n",
        "output_message = f\"Hello, my name is {x}. I was born in {y}, and I'm from {z}. Nice to meet you.\"\n",
        "print(output_message)\n"
      ],
      "metadata": {
        "id": "RR2kv4uy2rgz"
      },
      "execution_count": null,
      "outputs": []
    },
    {
      "cell_type": "code",
      "source": [
        "# Dropdown\n",
        "\n",
        "cardinal_number = \"4\" #@param [\"1\",\"2\",\"3\",\"4\"]\n",
        "\n",
        "# Convert cardinal_number to integer\n",
        "cardinal_number = int(cardinal_number)\n",
        "\n",
        "# Adjust index to match the selection\n",
        "adjusted_index = cardinal_number - 1\n",
        "\n",
        "# Ordinal expression as a list\n",
        "words = [\"First\", \"Second\", \"Third\", \"Fourth\"]\n",
        "\n",
        "print(\"The ordinal expression:\", words[adjusted_index])"
      ],
      "metadata": {
        "colab": {
          "base_uri": "https://localhost:8080/"
        },
        "id": "wjvtfc1w231c",
        "outputId": "a82d234e-7f28-45ac-ced9-8860afbc7111"
      },
      "execution_count": 3,
      "outputs": [
        {
          "output_type": "stream",
          "name": "stdout",
          "text": [
            "The ordinal expression: Second\n"
          ]
        }
      ]
    },
    {
      "cell_type": "code",
      "source": [
        "# Name question\n",
        "\n",
        "# Assigning values to variables\n",
        "x = \"My name is\"\n",
        "y = \"Jiwoo\"\n",
        "\n",
        "# Print the statement with the name\n",
        "print(x, y + \".\")\n"
      ],
      "metadata": {
        "colab": {
          "base_uri": "https://localhost:8080/"
        },
        "id": "YJv3PFvi5K1k",
        "outputId": "5e60fe14-96f8-41a6-8058-d61a0da5a542"
      },
      "execution_count": 8,
      "outputs": [
        {
          "output_type": "stream",
          "name": "stdout",
          "text": [
            "My name is Jiwoo.\n"
          ]
        }
      ]
    },
    {
      "cell_type": "code",
      "source": [
        "# First, install the gTTS library if you haven't already\n",
        "!pip install gTTS\n",
        "\n",
        "# Import the gTTS library\n",
        "from gtts import gTTS\n",
        "\n",
        "# Import IPython display module\n",
        "from IPython.display import Audio, display\n",
        "\n",
        "# Prompt the user to input a sentence\n",
        "text = input(\"Please type a sentence: \")\n",
        "\n",
        "# Create gTTS object with the input text\n",
        "speech = gTTS(text=text, lang='en', slow=False)\n",
        "\n",
        "# Save the audio to a file\n",
        "speech.save(\"output.mp3\")\n",
        "\n",
        "# Display the audio directly in the notebook\n",
        "display(Audio(\"output.mp3\", autoplay=True))\n"
      ],
      "metadata": {
        "id": "HIwhZ0rS59Bo"
      },
      "execution_count": null,
      "outputs": []
    },
    {
      "cell_type": "code",
      "source": [
        "def division_function(num1, num2):\n",
        "    \"\"\"\n",
        "    This function divides num1 by num2 and returns the result.\n",
        "    \"\"\"\n",
        "    result = num1 / num2\n",
        "    return result\n",
        "\n",
        "# Call the division function with the values 20 and 4\n",
        "result = division_function(20, 4)\n",
        "\n",
        "# Print the result\n",
        "print(result)\n"
      ],
      "metadata": {
        "id": "8elXG2096o7h"
      },
      "execution_count": null,
      "outputs": []
    },
    {
      "cell_type": "code",
      "source": [
        "# Define a dictionary named 'grades'\n",
        "grades = {\n",
        "    \"Alice\": 85,\n",
        "    \"Bob\": 80,\n",
        "    \"Charlie\": 90\n",
        "}\n",
        "\n",
        "# Print the grade of Bob\n",
        "print(grades[\"Bob\"])\n"
      ],
      "metadata": {
        "id": "rK_xuRSXABAT"
      },
      "execution_count": null,
      "outputs": []
    }
  ]
}