{
  "nbformat": 4,
  "nbformat_minor": 0,
  "metadata": {
    "colab": {
      "provenance": [],
      "include_colab_link": true
    },
    "kernelspec": {
      "name": "python3",
      "display_name": "Python 3"
    },
    "language_info": {
      "name": "python"
    }
  },
  "cells": [
    {
      "cell_type": "markdown",
      "metadata": {
        "id": "view-in-github",
        "colab_type": "text"
      },
      "source": [
        "<a href=\"https://colab.research.google.com/github/oep-jwh/midterm24/blob/main/202258118_fromMK316.ipynb\" target=\"_parent\"><img src=\"https://colab.research.google.com/assets/colab-badge.svg\" alt=\"Open In Colab\"/></a>"
      ]
    },
    {
      "cell_type": "markdown",
      "source": [
        "# 😍This is Heading 1 style when using markdown language :-)"
      ],
      "metadata": {
        "id": "MYKWhWk8wsMD"
      }
    },
    {
      "cell_type": "markdown",
      "source": [
        "🌀Midterm 2024: Jiwoo Han (202258118)\n",
        "\n",
        "\n"
      ],
      "metadata": {
        "id": "dMDE_pVTwucT"
      }
    },
    {
      "cell_type": "markdown",
      "source": [
        "## 😍 Good job"
      ],
      "metadata": {
        "id": "nXddowU03kCg"
      }
    },
    {
      "cell_type": "code",
      "source": [
        "# Enter the provided text below.\n",
        "# 'Mary, 1998, Ohio; and John, 1999, Boston.'\n",
        "\n",
        "# Assigning variables using the input function.\n",
        "x = input(\"name: \")\n",
        "y = input(\"born in: \")\n",
        "z = input(\"hometown: \")\n",
        "\n",
        "# Displaying the gathered information.\n",
        "output_message = f\"Hello, my name is {x}. I was born in {y}, and I'm from {z}. Nice to meet you.\"\n",
        "print(output_message)\n"
      ],
      "metadata": {
        "id": "RR2kv4uy2rgz",
        "outputId": "a8c882fc-e913-4efb-e1c8-26f879701f6b",
        "colab": {
          "base_uri": "https://localhost:8080/"
        }
      },
      "execution_count": 1,
      "outputs": [
        {
          "output_type": "stream",
          "name": "stdout",
          "text": [
            "name: Mary\n",
            "born in: 1998\n",
            "hometown: Ohio\n",
            "Hello, my name is Mary. I was born in 1998, and I'm from Ohio. Nice to meet you.\n"
          ]
        }
      ]
    },
    {
      "cell_type": "markdown",
      "source": [
        "## 😍 Good job"
      ],
      "metadata": {
        "id": "ZNqeOumt3isD"
      }
    },
    {
      "cell_type": "code",
      "source": [
        "# Dropdown\n",
        "\n",
        "cardinal_number = \"2\" #@param [\"1\",\"2\",\"3\",\"4\"]\n",
        "\n",
        "# Convert cardinal_number to integer\n",
        "cardinal_number = int(cardinal_number)\n",
        "\n",
        "# Adjust index to match the selection\n",
        "adjusted_index = cardinal_number - 1\n",
        "\n",
        "# Ordinal expression as a list\n",
        "words = [\"First\", \"Second\", \"Third\", \"Fourth\"]\n",
        "\n",
        "print(\"The ordinal expression:\", words[adjusted_index])"
      ],
      "metadata": {
        "colab": {
          "base_uri": "https://localhost:8080/"
        },
        "id": "wjvtfc1w231c",
        "outputId": "412fbe08-c338-4739-fc37-34c91840aac4",
        "cellView": "form"
      },
      "execution_count": 6,
      "outputs": [
        {
          "output_type": "stream",
          "name": "stdout",
          "text": [
            "The ordinal expression: Second\n"
          ]
        }
      ]
    },
    {
      "cell_type": "code",
      "source": [
        "# Name question\n",
        "\n",
        "# Assigning values to variables\n",
        "x = \"My name is\"\n",
        "y = \"Jiwoo\"\n",
        "\n",
        "# Print the statement with the name\n",
        "print(x, y + \".\")\n"
      ],
      "metadata": {
        "colab": {
          "base_uri": "https://localhost:8080/"
        },
        "id": "YJv3PFvi5K1k",
        "outputId": "5e60fe14-96f8-41a6-8058-d61a0da5a542"
      },
      "execution_count": null,
      "outputs": [
        {
          "output_type": "stream",
          "name": "stdout",
          "text": [
            "My name is Jiwoo.\n"
          ]
        }
      ]
    },
    {
      "cell_type": "markdown",
      "source": [
        "## 😍 Good job: Think about why installation code needs to be split from the rest of the code."
      ],
      "metadata": {
        "id": "q_zLQSln3lib"
      }
    },
    {
      "cell_type": "code",
      "source": [
        "# First, install the gTTS library if you haven't already\n",
        "!pip install gTTS\n",
        "\n",
        "# Import the gTTS library\n",
        "from gtts import gTTS\n",
        "\n",
        "# Import IPython display module\n",
        "from IPython.display import Audio, display\n",
        "\n",
        "# Prompt the user to input a sentence\n",
        "text = input(\"Please type a sentence: \")\n",
        "\n",
        "# Create gTTS object with the input text\n",
        "speech = gTTS(text=text, lang='en', slow=False)\n",
        "\n",
        "# Save the audio to a file\n",
        "speech.save(\"output.mp3\")\n",
        "\n",
        "# Display the audio directly in the notebook\n",
        "display(Audio(\"output.mp3\", autoplay=True))\n"
      ],
      "metadata": {
        "id": "HIwhZ0rS59Bo",
        "outputId": "62d7099a-1a4b-47ea-816a-913e6ffa989d",
        "colab": {
          "base_uri": "https://localhost:8080/",
          "height": 277
        }
      },
      "execution_count": 7,
      "outputs": [
        {
          "name": "stdout",
          "output_type": "stream",
          "text": [
            "Collecting gTTS\n",
            "  Downloading gTTS-2.5.1-py3-none-any.whl (29 kB)\n",
            "Requirement already satisfied: requests<3,>=2.27 in /usr/local/lib/python3.10/dist-packages (from gTTS) (2.31.0)\n",
            "Requirement already satisfied: click<8.2,>=7.1 in /usr/local/lib/python3.10/dist-packages (from gTTS) (8.1.7)\n",
            "Requirement already satisfied: charset-normalizer<4,>=2 in /usr/local/lib/python3.10/dist-packages (from requests<3,>=2.27->gTTS) (3.3.2)\n",
            "Requirement already satisfied: idna<4,>=2.5 in /usr/local/lib/python3.10/dist-packages (from requests<3,>=2.27->gTTS) (3.7)\n",
            "Requirement already satisfied: urllib3<3,>=1.21.1 in /usr/local/lib/python3.10/dist-packages (from requests<3,>=2.27->gTTS) (2.0.7)\n",
            "Requirement already satisfied: certifi>=2017.4.17 in /usr/local/lib/python3.10/dist-packages (from requests<3,>=2.27->gTTS) (2024.2.2)\n",
            "Installing collected packages: gTTS\n",
            "Successfully installed gTTS-2.5.1\n",
            "Please type a sentence: Think about why installation needs to be coded in a separate code line.\n"
          ]
        },
        {
          "output_type": "display_data",
          "data": {
            "text/plain": [
              "<IPython.lib.display.Audio object>"
            ],
            "text/html": [
              "\n",
              "                <audio  controls=\"controls\" autoplay=\"autoplay\">\n",
              "                    <source src=\"data:audio/mpeg;base64,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\" type=\"audio/mpeg\" />\n",
              "                    Your browser does not support the audio element.\n",
              "                </audio>\n",
              "              "
            ]
          },
          "metadata": {}
        }
      ]
    },
    {
      "cell_type": "markdown",
      "source": [
        " 😍 Comment: The part below is not a comment format. You can use '#' starting a line. See my suggestion below your code.\n",
        "\n",
        "    \"\"\"\n",
        "    This function divides num1 by num2 and returns the result.\n",
        "    \"\"\""
      ],
      "metadata": {
        "id": "9EcLjcNg37rq"
      }
    },
    {
      "cell_type": "code",
      "source": [
        "def division_function(num1, num2):\n",
        "    \"\"\"\n",
        "    This function divides num1 by num2 and returns the result.\n",
        "    \"\"\"\n",
        "    result = num1 / num2\n",
        "    return result\n",
        "\n",
        "# Call the division function with the values 20 and 4\n",
        "result = division_function(20, 4)\n",
        "\n",
        "# Print the result\n",
        "print(result)\n"
      ],
      "metadata": {
        "id": "8elXG2096o7h",
        "outputId": "eadf42cb-a5d3-489d-f47a-1dc560dc623f",
        "colab": {
          "base_uri": "https://localhost:8080/"
        }
      },
      "execution_count": 8,
      "outputs": [
        {
          "output_type": "stream",
          "name": "stdout",
          "text": [
            "5.0\n"
          ]
        }
      ]
    },
    {
      "cell_type": "code",
      "source": [
        "# This function divides num1 by num2 and returns the result.\n",
        "def division_function(num1, num2):\n",
        "    result = num1 / num2\n",
        "    return result\n",
        "\n",
        "# Call the division function with the values 20 and 4\n",
        "result = division_function(20, 4)\n",
        "\n",
        "# Print the result\n",
        "print(result)\n"
      ],
      "metadata": {
        "id": "qfgIvOhD4J3q",
        "outputId": "eaaa5943-2483-40f1-d75e-e090898f1573",
        "colab": {
          "base_uri": "https://localhost:8080/"
        }
      },
      "execution_count": 9,
      "outputs": [
        {
          "output_type": "stream",
          "name": "stdout",
          "text": [
            "5.0\n"
          ]
        }
      ]
    },
    {
      "cell_type": "markdown",
      "source": [
        "😍 Good job!"
      ],
      "metadata": {
        "id": "1ORBsYg64SqX"
      }
    },
    {
      "cell_type": "code",
      "source": [
        "# Define a dictionary named 'grades'\n",
        "grades = {\n",
        "    \"Alice\": 85,\n",
        "    \"Bob\": 80,\n",
        "    \"Charlie\": 90\n",
        "}\n",
        "\n",
        "# Print the grade of Bob\n",
        "print(grades[\"Bob\"])\n"
      ],
      "metadata": {
        "id": "rK_xuRSXABAT",
        "outputId": "b3701738-bcb6-4249-9554-6ea73cfafa9a",
        "colab": {
          "base_uri": "https://localhost:8080/"
        }
      },
      "execution_count": 10,
      "outputs": [
        {
          "output_type": "stream",
          "name": "stdout",
          "text": [
            "80\n"
          ]
        }
      ]
    },
    {
      "cell_type": "markdown",
      "source": [
        "---\n",
        "The end\n",
        "\n",
        "😍 I hope you make time to try out the rest of the question items."
      ],
      "metadata": {
        "id": "cdDQJJ2p4VwX"
      }
    }
  ]
}